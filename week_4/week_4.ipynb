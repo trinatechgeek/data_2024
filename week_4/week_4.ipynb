{
 "cells": [
  {
   "cell_type": "markdown",
   "metadata": {},
   "source": [
    "![Monty Python Logo](https://aspectsofhistory.com/wp-content/uploads/2021/06/Die_Ritter_der_Kokosnuss_Logo.png)\n"
   ]
  },
  {
   "cell_type": "markdown",
   "metadata": {},
   "source": [
    "# Monty Python-Themed Game\n",
    "**Objective:**\n",
    "\n",
    "Create a text-based adventure game inspired by Monty Python, where players make choices and see how they progress through humorous scenarios. This exercise will reinforce concepts like variables, if statements, loops, and basic functions."
   ]
  },
  {
   "cell_type": "markdown",
   "metadata": {},
   "source": [
    "**1. Set Up the Scene**\n",
    "\n",
    "Start by setting up a simple introduction to the game.\n",
    "print the following to the player:\n",
    "- \"Welcome to the Monty Python Adventure!\"\n",
    "- \"You are about to embark on a quest for the Holy Grail. Beware of dangerous encounters!\""
   ]
  },
  {
   "cell_type": "code",
   "execution_count": null,
   "metadata": {},
   "outputs": [
    {
     "name": "stdout",
     "output_type": "stream",
     "text": [
      "Welcome to the Monty Python Adventure!\n",
      "You are about to embark on a quest for the Holy Grail. Beware of dangerous encounters!\n"
     ]
    }
   ],
   "source": [
    "# your code here \n",
    "print(\"Welcome to the Monty Python Adventure!\")\n",
    "print(\"You are about to embark on a quest for the Holy Grail. Beware of dangerous encounters!\")"
   ]
  },
  {
   "cell_type": "markdown",
   "metadata": {},
   "source": [
    "**2. Character Setup**\n",
    "\n",
    "Define variables to store basic player information:\n",
    "- Define the variable players name \n",
    "- Take an input to get the players name. \n",
    "    - \"What is your name, brave adventurer? \"\n",
    "- Welcome the player to the game \n",
    "    - use a f string for this\n",
    "    - \"Welcome, Sir `player_name` of Pythonia!\""
   ]
  },
  {
   "cell_type": "code",
   "execution_count": 1,
   "metadata": {},
   "outputs": [
    {
     "name": "stdout",
     "output_type": "stream",
     "text": [
      "Welcome, Sir katrina of Pythonia!\n"
     ]
    }
   ],
   "source": [
    "# your code here \n",
    "player_name = input(\"What is your name, brave adventurer?\")\n",
    "print(f\"Welcome, Sir {player_name} of Pythonia!\")"
   ]
  },
  {
   "cell_type": "markdown",
   "metadata": {},
   "source": [
    "3. Choices with Conditional Statements\n",
    "\n",
    "In this step, you’ll add choices that let the player decide what to do when they encounter a knight. Based on their input, the game will respond with different outcomes.\n",
    "\n",
    "**Set the Scene**\n",
    "Add the following lines to introduce the knight’s challenge:\n",
    "- Display: A knight steps in front of you and says, 'None shall pass!'\n",
    "- Take in a players `choice`\n",
    "    - 1 fight the knight\n",
    "    - 2 try to reason with him?\n",
    "\n",
    "**Add Conditional Responses**\n",
    "Now, use a `match case` statement to check the player’s response and determine what happens next. We have not gone over this in class - this is a test on how resourceful you can be.\n",
    "The match case in Python is also referred to as a switch statement in other languages and provides a more readable and compact way to write an if statement. Ideally, a match case or switch statement would be used when there isn't conditional nesting. Not only is it easier to read, but it also runs much faster.\n",
    "\n",
    "- choice 1\n",
    "    - print: The knight draws his sword. It's time for battle!\n",
    "    - **Optional: Add more logic here for the battle, such as health points or chance outcomes**\n",
    "    - **if you choose to complete the optional, you will need to use an `if` statement instead of a `match case` statement.**\n",
    "    - ***The guide for the optional code is part of an ultimate challenge that only the bravest of knights will attempt. Thus, it is located at the bottom of this sheet after the exercise. ***\n",
    "- choice 2\n",
    "    - print: The knight scoffs at your attempt to reason and attacks anyway.\n",
    "    - **Optional: Add consequences here for choosing to reason**\n",
    "    - **if you choose to complete the optional, you will need to use an `if` statement instead of a `match case` statement.**\n",
    "    - ***The guide for the optional code is part of an ultimate challenge that only the bravest of knights will attempt. Thus, it is located at the bottom of this sheet after the exercise. ***\n",
    "- default\n",
    "    - print: You hesitate... and the knight charges!\n",
    "    - **if you choose to complete the optional, you will need to use an `if` statement instead of a `match case` statement.**\n",
    "    - ***The guide for the optional code is part of an ultimate challenge that only the bravest of knights will attempt. Thus, it is located at the bottom of this sheet after the exercise. ***\n",
    "\n",
    "*NOTE: if your computer (or Macbook) requires holy water, I would recommend only trying the challenge on your own time*"
   ]
  },
  {
   "cell_type": "code",
   "execution_count": 7,
   "metadata": {},
   "outputs": [
    {
     "data": {
      "text/plain": [
       "\"A knight steps in front of you and says, 'None shall pass!'\""
      ]
     },
     "metadata": {},
     "output_type": "display_data"
    },
    {
     "name": "stdout",
     "output_type": "stream",
     "text": [
      "You hesitate... and the knight charges!\n"
     ]
    }
   ],
   "source": [
    "display(\"A knight steps in front of you and says, 'None shall pass!'\")\n",
    "choice = int(input(\"1 fight the knight or 2 to reason\"))\n",
    "match choice:\n",
    "    case 1:\n",
    "        print(\"The knight draws his sword. It's time for battle!\")\n",
    "    case 2:  \n",
    "        print(\"The knight scoffs at your attempt to reason and attacks anyway.\")\n",
    "    case 3:\n",
    "        print(\"You hesitate... and the knight charges!\")    \n"
   ]
  },
  {
   "cell_type": "markdown",
   "metadata": {},
   "source": [
    "**Test Your Code**\n",
    "Run the code and try typing different options to see each response."
   ]
  },
  {
   "cell_type": "markdown",
   "metadata": {},
   "source": [
    "**4. Loops for Repeated Choices**\n",
    "\n",
    "In this step, you’ll add a while loop that will keep asking the player if they want to cross the Bridge of Death until they enter a valid response. This will ensure that the player only proceeds if they choose \"yes\" or \"no.\"\n",
    "\n",
    "**Write the Loop Add the following lines to create the bridge-crossing scene:**\n",
    "\n",
    "- Display: \"Do you want to cross the Bridge of Death? (yes/no)\"\n",
    "- Take in a player’s `response`\n",
    "    - Convert the player’s input to lowercase using `.lower()`\n",
    "\n",
    "**Add Conditional Responses**\n",
    "\n",
    "Use an if statement inside the while loop to check the player’s response:\n",
    "\n",
    "- if response is \"yes\"\n",
    "    - Display: \"A troll appears and asks you three questions!\"\n",
    "    - End the loop with break\n",
    "- elif response is \"no\"\n",
    "    - Display: \"You wisely turn back.\"\n",
    "    - End the loop with break\n",
    "- else\n",
    "    - Display: \"Please answer 'yes' or 'no'.\"\n",
    "    - The loop will continue, asking again"
   ]
  },
  {
   "cell_type": "code",
   "execution_count": null,
   "metadata": {},
   "outputs": [
    {
     "name": "stdout",
     "output_type": "stream",
     "text": [
      "A troll appears and asks you three questions!\n"
     ]
    }
   ],
   "source": [
    "# your code here "
   ]
  },
  {
   "cell_type": "markdown",
   "metadata": {},
   "source": [
    "**5. Ending the Game**\n",
    "\n",
    "In this final step, you’ll display a message congratulating the player for completing their quest and saying farewell. This will conclude your Monty Python-themed adventure game.\n",
    "\n",
    "**Display the Ending Messages** \n",
    "Add the following lines to announce the player’s success and say goodbye:\n",
    "\n",
    "- Display: \"Congratulations, you have completed your quest!\"\n",
    "- Display: A farewell message that includes the player’s name:\n",
    "    - Use an `f`-string` to personalize the message by inserting `player_name`"
   ]
  },
  {
   "cell_type": "code",
   "execution_count": null,
   "metadata": {},
   "outputs": [
    {
     "name": "stdout",
     "output_type": "stream",
     "text": [
      "Congratulations, you have completed your quest!\n",
      "Farewell, Sir danny!\n"
     ]
    }
   ],
   "source": [
    "# your code here "
   ]
  },
  {
   "cell_type": "markdown",
   "metadata": {},
   "source": []
  },
  {
   "cell_type": "markdown",
   "metadata": {},
   "source": [
    "**6. Combine Your Code**\n",
    "\n",
    "Now, put all your code cells together into one complete program so the player can experience the entire game from start to finish. Copy each section of code from above and arrange them in sequence. This will create a seamless game that flows through the introduction, choices, repeated prompts, and final farewell message.\n",
    "\n",
    "Your final code should look like this:\n",
    "\n",
    "1. Introduction - Welcome the player and set up their character.\n",
    "2. First Choice - Encounter with the knight and the player's response options.\n",
    "3. Repeated Prompt - The Bridge of Death question with the while loop.\n",
    "4. Ending - Display the congratulatory message and personalized farewell.\n",
    "Run your combined code to play through the game in full!"
   ]
  },
  {
   "cell_type": "code",
   "execution_count": null,
   "metadata": {},
   "outputs": [],
   "source": [
    "# your code here "
   ]
  },
  {
   "cell_type": "markdown",
   "metadata": {},
   "source": [
    "## The Ultimate Challenge That Only the Bravest of Knights Will Attempt\n",
    "\n",
    "You're here because you wanted a challenge, and *boy, am I about to be relentless (insert evil laugh)*. In this challenge, we will introduce match case statements combined with other conditions, random number generators, loops with break statements, and functions - oh my!\n",
    "\n",
    "---\n",
    "\n",
    "Let me bring down the prompt for our knight challenge:\n",
    "\n",
    "> **Set the Scene**\n",
    "> Add the following lines to introduce the knight’s challenge:\n",
    "> - Display: A knight steps in front of you and says, 'None shall pass!'\n",
    "> - Take in a players `choice`\n",
    ">>- 1 fight the knight\n",
    ">>- 2 try to reason with him?\n",
    ">\n",
    "> **Add Conditional Responses**\n",
    ">Now, use a `match case` statement to check the player’s response and determine what happens next. We have not gone over this in class - this is a test on how resourceful you can be.\n",
    ">The match case in Python is also referred to as a switch statement in other languages and provides a more readable and compact way to write an if statement. Ideally, a match case or switch >statement would be used when there isn't conditional nesting. Not only is it easier to read, but it also runs much faster.\n",
    ">\n",
    ">>- **choice 1**\n",
    ">>- print: The knight draws his sword. It's time for battle!\n",
    ">>- **Optional: Add more logic here for the battle, such as health points or chance outcomes**\n",
    ">>- **if you choose to complete the optional, you will need to use an `if` statement instead of a `match case` statement.**\n",
    ">>- ***The guide for the optional code is part of an ultimate challenge that only the bravest of knights will attempt. Thus, it is located at the bottom of this sheet after the exercise. ***\n",
    "\n",
    ">>- **choice 2**\n",
    ">>- print: The knight scoffs at your attempt to reason and attacks anyway.\n",
    ">>- **Optional: Add consequences here for choosing to reason**\n",
    ">>- **if you choose to complete the optional, you will need to use an `if` statement instead of a `match case` statement.**\n",
    ">>- ***The guide for the optional code is part of an ultimate challenge that only the bravest of knights will attempt. Thus, it is located at the bottom of this sheet after the exercise. ***\n",
    "\n",
    ">>- **default**\n",
    ">>- print: You hesitate... and the knight charges!\n",
    ">>- **if you choose to complete the optional, you will need to use an `if` statement instead of a `match case` statement.**\n",
    ">>- ***The guide for the optional code is part of an ultimate challenge that only the bravest of knights will attempt. Thus, it is located at the bottom of this sheet after the exercise. ***\n",
    "\n",
    "---\n",
    "\n",
    "Since you are here to attempt The Ultimate Challenge That Only the Bravest of Knights Will Attempt, and you are indeed one of the bravest knights, we will be using damage \"rolls\" to add another layer to our game. If you need to look up information on syntax, how to write something, or what it does, research!\n"
   ]
  },
  {
   "cell_type": "markdown",
   "metadata": {},
   "source": [
    "### Including Damage Rolls\n",
    "\n",
    "In this scenario, we will be using an `if` statement to capture the player's response, then a `match case` statement to complete different actions based off what the player \"rolls\". What I provide is just an example - you can choose something simpler than HP to determine who wins with a random number generator (like an epic rock paper scissors tournament! Keep it clean, kids.) Below is pseudocode. You can create your own values or calculations on attack bonuses and/or damage dealt: all of this is customizable!\n",
    "\n",
    "```text\n",
    "if <choice 1>\n",
    "\n",
    "    print: The knight draws his sword. It's time for battle!\n",
    "    print: Starting health: <number>\n",
    "    surpriseAttackPenalty: <number>\n",
    "    random generator between 0 and 5\n",
    "\n",
    "    > the player goes first, and then the knight!\n",
    "\n",
    "    >>> is there a way to add a condition to keep running until someone gets under 30% health?\n",
    "\n",
    "    > until the player or the knight reaches 30% health or less:\n",
    "    \n",
    "        > player goes first\n",
    "        match case: random number\n",
    "            case random number is 0\n",
    "                print: the knight blocked your attack!\n",
    "            case random number is 5\n",
    "                print: your attack is critical!\n",
    "                > do mathy stuff with bonuses and penalties if you choose to\n",
    "                print: you dealt {x} damage points\n",
    "            default\n",
    "                > do mathy stuff with bonuses and penalties if you choose to\n",
    "                print: you dealt {x} damage points\n",
    "\n",
    "        print: Knight's health: <number>\n",
    "\n",
    "        if knight's health is 30% or less:\n",
    "            print: the knight tries to throw his hands up in defeat, but he realizes he has no limbs - you're free to pass as he keeps asking you to continue fighting him.\n",
    "            break statement! #what is this and what does it do? why is this useful?\n",
    "\n",
    "        > knight next\n",
    "        match case: random number\n",
    "            case random number is 0\n",
    "                print: you blocked the knight's attack!\n",
    "            case random number is 5\n",
    "                print: the knight's attack is critical!\n",
    "                > do mathy stuff with bonuses and penalties if you choose to\n",
    "                print: the knight dealt {x} damage points\n",
    "            default\n",
    "                > do mathy stuff with bonuses and penalties if you choose to\n",
    "                print: the knight dealt {x} damage points\n",
    "        \n",
    "        print: Current health: <number>\n",
    "\n",
    "        if player's health is 30% or less:\n",
    "            print: This knight is relentless! It doesn't matter how maimed he is, all he wants to do is fight. RETREAT!\n",
    "            break statement!\n",
    "            > what is this and what does it do? why is this useful?\n",
    "\n",
    "        >>> repeat this until someone gets to 30% or less of health!\n",
    "\n",
    "        \n",
    "elif <choice 2>\n",
    "    print: The knight scoffs at your attempt to reason and attacks anyway.\n",
    "    > Our code would be structured the same, except the knight would go first! Would this impact the surprise penalty?\n",
    "else\n",
    "    print: You hesitate... and the knight charges!\n",
    "    > Our code would be structured the same, except the knight would go first! Would this impact the surprise penalty?\n",
    "\n",
    "```\n",
    "\n",
    "Give it a try below!"
   ]
  },
  {
   "cell_type": "code",
   "execution_count": null,
   "metadata": {},
   "outputs": [],
   "source": [
    "# Code here"
   ]
  },
  {
   "cell_type": "markdown",
   "metadata": {},
   "source": [
    "### That was awful and there was a lot of code, there must be a way to make this easier.\n",
    "\n",
    "You could call the above the end of this part of the adventure!\n",
    "\n",
    "If we review the above, notice we have a lot of repeated code - ESPECIALLY with the match case statements. Talk about annoying: writing the same thing over and over.\n",
    "\n",
    "Most programming languages have a feature called functions! This places your repeat code in one place, and all you have to do is \"call\" that function to run the code inside. The function will be placed OUTSIDE of your current program. *Look up the documentation for more information!*\n",
    "\n",
    "---\n",
    "\n",
    "Take this function as an example using the above:\n",
    "\n",
    "```text\n",
    "def player_attack(penalty):\n",
    "\n",
    "    random generator between 0 and 5\n",
    "\n",
    "    match case: random number\n",
    "        if random number is 0\n",
    "            print: the knight blocked your attack!\n",
    "            return 0\n",
    "        if random number is 5\n",
    "            print: your attack is critical!\n",
    "            #do mathy stuff with bonuses and penalties if you choose to like total_damage = damage - penalty\n",
    "            print: you dealt {x} damage points\n",
    "            return {x}\n",
    "        default\n",
    "            #do mathy stuff with bonuses and penalties if you choose to\n",
    "            print: you dealt {x} damage points\n",
    "            return {x}\n",
    "```\n",
    "\n",
    "---\n",
    "\n",
    "Functions are defined using `def`. Next is the `function_name` followed by `()`.\n",
    "The `()` will include values that you are *passing in* to the function. In this case, we are passing in the penalty value if you choose to use it. We are doing it this way because it allows us to reuse this code over again, but the value the function uses for the penalty changes based off what you put into the `()`. If you aren't passing values in, you can leave it empty!\n",
    "\n",
    "When defining (hence the `def`) a function, we always use a word describing what the pass-in value represents. This acts just like a normal variable. So, in the above, if you use the word penalty as a variable anywhere, it will replace it with the value you enter.\n",
    "\n",
    "Additionally, notice the return statements. When you run this function, if there is a return statement, that function will also act like the result of that statement. Here is a basic example:"
   ]
  },
  {
   "cell_type": "code",
   "execution_count": 4,
   "metadata": {},
   "outputs": [
    {
     "name": "stdout",
     "output_type": "stream",
     "text": [
      "Your result is 27!\n"
     ]
    }
   ],
   "source": [
    "def add_numbers(number1, number2):\n",
    "    return number1 + number2\n",
    "\n",
    "result = add_numbers(23, 4) #we should get 27!\n",
    "\n",
    "print(\"Your result is \" + str(result) + \"!\")"
   ]
  },
  {
   "cell_type": "markdown",
   "metadata": {},
   "source": [
    "### Putting Our Functions to Use\n",
    "\n",
    "Here is an example of our function being used.\n",
    "\n",
    "---\n",
    "\n",
    "Define the function.\n",
    "\n",
    "```text\n",
    "def player_attack(penalty):\n",
    "\n",
    "    random generator between 0 and 5\n",
    "\n",
    "    match case: random number\n",
    "        if random number is 0\n",
    "            print: the knight blocked your attack!\n",
    "            return 0 #damage dealt\n",
    "        if random number is 5\n",
    "            print: your attack is critical!\n",
    "            #do mathy stuff with bonuses and penalties if you choose to like total_damage = damage - penalty\n",
    "            print: you dealt {x} damage points\n",
    "            return {x} #damage dealt\n",
    "        default\n",
    "            #do mathy stuff with bonuses and penalties if you choose to\n",
    "            print: you dealt {x} damage points\n",
    "            return {x} #damage dealt\n",
    "```\n",
    "\n",
    "---\n",
    "\n",
    "Write the code using the function.\n",
    "\n",
    "```text\n",
    "if <choice 1>\n",
    "    >>> I'm assuming we have the player's health and the knight's health stored somewhere & pretending it already exists\n",
    "\n",
    "    print: The knight draws his sword. It's time for battle!\n",
    "    print: Starting health: <number>\n",
    "    surpriseAttackPenalty: 4\n",
    "\n",
    "    > the player goes first, and then the knight!\n",
    "    >>> is there a way to add a condition to keep running until someone gets under 30% health?\n",
    "\n",
    "    > until the player or the knight reaches 30% health or less:\n",
    "    \n",
    "        > player first! Here, don't get caught up in the fact we used a different variable in our function - remember: variables are just saved/stored values!\n",
    "\n",
    "        damage_to_knight = player_attack(surpriseAttackPenalty)\n",
    "\n",
    "        knight_health -= damage_to_knight\n",
    "\n",
    "        print: Knight's health: knight_health\n",
    "\n",
    "        if knight's health is 30% or less:\n",
    "            print: the knight tries to throw his hands up in defeat, but he realizes he has no limbs - you're free to pass as he keeps asking you to continue fighting him.\n",
    "            break statement\n",
    "\n",
    "        > knight goes next\n",
    "\n",
    "        damage_to_player = knight_attack(surpriseAttackPenalty)\n",
    "\n",
    "        player_health -= damage_to_player\n",
    "\n",
    "        print: Player's health: player_health\n",
    "\n",
    "        if player's health is 30% or less:\n",
    "            print: This knight is relentless! It doesn't matter how maimed he is, all he wants to do is fight. RETREAT!\n",
    "            break statement! #what is this and what does it do? why is this useful?\n",
    "\n",
    "        >>> repeat this until someone gets to 30% or less of health!\n",
    "        \n",
    "elif <choice 2>\n",
    "    .\n",
    "    .\n",
    "    .\n",
    "    .\n",
    "```\n",
    "---\n",
    "\n",
    "Look how much that code was reduced (imagine because it would have been repeated within the elifs).\n",
    "\n",
    "Let's put this into work below. First, define your function. Then, write your code that uses that function.\n",
    "*Remember: Jupyter Notebooks runs every cell individually. If you don't run the function cell before you run your main code cell, it won't recognize that the function exists!*"
   ]
  },
  {
   "cell_type": "code",
   "execution_count": null,
   "metadata": {},
   "outputs": [],
   "source": [
    "# define function here"
   ]
  },
  {
   "cell_type": "code",
   "execution_count": null,
   "metadata": {},
   "outputs": [],
   "source": [
    "#define main code here"
   ]
  },
  {
   "cell_type": "markdown",
   "metadata": {},
   "source": [
    "### Congrats! You just finished The Ultimate Challenge That Only the Bravest of Knights Will Attempt!\n",
    "\n",
    "Notice the process we followed here: Pseudocode was written, then we broke the code down into pieces that were smaller and easier to manage. *insert music:* [This is how we do it](https://youtu.be/0hiUuL5uTKc?si=chhMYUQCYqRLjqMt)"
   ]
  }
 ],
 "metadata": {
  "kernelspec": {
   "display_name": "base",
   "language": "python",
   "name": "python3"
  },
  "language_info": {
   "codemirror_mode": {
    "name": "ipython",
    "version": 3
   },
   "file_extension": ".py",
   "mimetype": "text/x-python",
   "name": "python",
   "nbconvert_exporter": "python",
   "pygments_lexer": "ipython3",
   "version": "3.13.0"
  }
 },
 "nbformat": 4,
 "nbformat_minor": 2
}
